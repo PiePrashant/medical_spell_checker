{
 "cells": [
  {
   "cell_type": "code",
   "execution_count": 1,
   "metadata": {},
   "outputs": [],
   "source": [
    "from selenium import webdriver\n",
    "from selenium.webdriver.common.keys import Keys\n",
    "from bs4 import BeautifulSoup\n",
    "import time\n",
    "import re\n",
    "import os"
   ]
  },
  {
   "cell_type": "code",
   "execution_count": 80,
   "metadata": {},
   "outputs": [],
   "source": [
    "opti = webdriver.ChromeOptions()\n",
    "opti.add_argument('--headless')\n",
    "#opti.to_capabilities()"
   ]
  },
  {
   "cell_type": "code",
   "execution_count": 244,
   "metadata": {},
   "outputs": [],
   "source": [
    "\n",
    "count = 0;\n",
    "while ( count < 26 ): \n",
    "    \n",
    "    li = []\n",
    "    url = '' # add the url \n",
    "    \n",
    "    driver = webdriver.Chrome(options=opti)\n",
    "    #driver.implicitly_wait(3)\n",
    "    driver.get(url + chr(ord('A') + count))\n",
    "    \n",
    "    #driver.implicitly_wait(3)\n",
    "    #time.sleep(1)\n",
    "    count += 1\n",
    "    print(driver.current_url)\n",
    "    \n",
    "    while(True):\n",
    "        soup1 = BeautifulSoup(driver.page_source, 'html5lib')\n",
    "        di = []\n",
    "        di = soup1.find('table', class_ = 'table-bordered').find_all('td')\n",
    "        for i in di:\n",
    "            li.append(i.text)\n",
    "        try:\n",
    "            url = 'https://www.medindia.net/drug-price/' + soup1.find('a', title = 'Next Page')['href']\n",
    "            #driver.implicitly_wait(3)\n",
    "            driver.get(url)\n",
    "            #driver.implicitly_wait(3)\n",
    "            #time.sleep(1)\n",
    "            print(driver.current_url)\n",
    "        \n",
    "        except Exception:\n",
    "            print(Exception)\n",
    "            break;\n",
    "    with open(r'medicine_brand_name.txt','a+') as f:\n",
    "        for elements in li:\n",
    "            f.write('%s\\n'%elements)"
   ]
  },
  {
   "cell_type": "code",
   "execution_count": 13,
   "metadata": {},
   "outputs": [],
   "source": [
    "data = []\n",
    "with open(r'medicine_brand_name.txt','r') as f:\n",
    "    for elements in f:\n",
    "        data.append(elements)"
   ]
  },
  {
   "cell_type": "code",
   "execution_count": 15,
   "metadata": {},
   "outputs": [],
   "source": [
    "data = set(data)  # remove duplicate"
   ]
  },
  {
   "cell_type": "code",
   "execution_count": 31,
   "metadata": {},
   "outputs": [],
   "source": [
    "data = list(data)"
   ]
  },
  {
   "cell_type": "code",
   "execution_count": 35,
   "metadata": {},
   "outputs": [],
   "source": [
    "# remove \\n and whie spaces\n",
    "li1= []\n",
    "c = 0\n",
    "for i in data:\n",
    "    li1.append(i.strip().replace('\\n',''))\n",
    "    c += 1"
   ]
  },
  {
   "cell_type": "code",
   "execution_count": 45,
   "metadata": {},
   "outputs": [],
   "source": [
    "# remove numeric values as they as indices\n",
    "li2 = []\n",
    "c = 0\n",
    "for i in li1:\n",
    "    if i.isnumeric() == 0:\n",
    "        li2.append(i)"
   ]
  },
  {
   "cell_type": "code",
   "execution_count": 42,
   "metadata": {},
   "outputs": [
    {
     "data": {
      "text/plain": [
       "9034"
      ]
     },
     "execution_count": 42,
     "metadata": {},
     "output_type": "execute_result"
    }
   ],
   "source": [
    "count"
   ]
  },
  {
   "cell_type": "code",
   "execution_count": 55,
   "metadata": {},
   "outputs": [],
   "source": [
    "del(li1)\n",
    "del(data)\n"
   ]
  },
  {
   "cell_type": "code",
   "execution_count": 58,
   "metadata": {},
   "outputs": [],
   "source": [
    "li2 = set(li2)"
   ]
  },
  {
   "cell_type": "code",
   "execution_count": 77,
   "metadata": {},
   "outputs": [
    {
     "data": {
      "text/plain": [
       "True"
      ]
     },
     "execution_count": 77,
     "metadata": {},
     "output_type": "execute_result"
    }
   ],
   "source": [
    "'+ google_ad_height + \\'px\" data-ad-client=\"\\'' in li2"
   ]
  },
  {
   "cell_type": "code",
   "execution_count": 80,
   "metadata": {},
   "outputs": [],
   "source": [
    "# remove ads line \n",
    "ad = [ '\\n',\n",
    " '\\t\\t\\t\\t\\t\\t   \\n',\n",
    " '\\n',\n",
    " '\\n',\n",
    " '\\n',\n",
    " '  \\n',\n",
    " '    \\n',\n",
    " '    google_ad_client = \"ca-pub-4864473589052117\";\\n',\n",
    " '    google_ad_slot = \"7880736955\";\\n',\n",
    " '    google_ad_height = 280;\\n',\n",
    " \"    ad1 = document.getElementById('google-ads-2');\\n\",\n",
    " '     \\n',\n",
    " '\\t    if (ad1.getBoundingClientRect().width) {\\n',\n",
    " '    google_ad_width = ad1.getBoundingClientRect().width;\\n',\n",
    " '    } else {\\n',\n",
    " '    google_ad_width = ad1.offsetWidth; // for old IE\\n',\n",
    " '    }\\n',\n",
    " '    google_ad_width=rwdscreenWidth;\\n',\n",
    " '    \\n',\n",
    " '\\t\\t/*Full Width Ad*/\\n',\n",
    " '    if (google_ad_width&gt;1024) {\\n',\n",
    " '    google_ad_width = 880;\\n',\n",
    " '\\tgoogle_ad_height = 300;\\n',\n",
    " '    } \\n',\n",
    " '\\telse if ((google_ad_width&lt;1025) &amp;&amp; (google_ad_width&gt;959)) {\\n',\n",
    " '    google_ad_width = 605;\\n',\n",
    " '\\tgoogle_ad_height = 300;\\n',\n",
    " '    }\\n',\n",
    " '\\telse if ((google_ad_width&lt;960) &amp;&amp; (google_ad_width&gt;799)) {\\n',\n",
    " '    google_ad_width = 730;\\n',\n",
    " '\\tgoogle_ad_height = 300;\\n',\n",
    " '    }\\n',\n",
    " '\\telse if ((google_ad_width&lt;800) &amp;&amp; (google_ad_width&gt;767)) {\\n',\n",
    " '    google_ad_width = 600;\\n',\n",
    " '\\tgoogle_ad_height = 300;\\n',\n",
    " '    }\\n',\n",
    " '\\telse if ((google_ad_width&lt;768) &amp;&amp; (google_ad_width&gt;599)) {\\n',\n",
    " '    google_ad_width = 540;\\n',\n",
    " '\\tgoogle_ad_height = 300;\\n',\n",
    " '    }\\n',\n",
    " '\\telse if ((google_ad_width&lt;600) &amp;&amp; (google_ad_width&gt;479)) {\\n',\n",
    " '    google_ad_width = 420;\\n',\n",
    " '\\tgoogle_ad_height = 250;\\n',\n",
    " '    }\\t\\n',\n",
    " '\\telse if ((google_ad_width&lt;480) &amp;&amp; (google_ad_width&gt;300)) {\\n',\n",
    " '    google_ad_width = 300;\\n',\n",
    " '\\tgoogle_ad_height = 250;\\n',\n",
    " '    }\\t\\t\\n',\n",
    " '\\telse {\\n',\n",
    " '    google_ad_width = 300;\\n',\n",
    " '\\tgoogle_ad_height = 250;\\n',\n",
    " '\\t}\\n',\n",
    " '\\n',\n",
    " '\\n',\n",
    " '    document.write (\\n',\n",
    " '    \\'&lt;ins class=\"adsbygoogle\" style=\"display:inline-block;width:\\'\\n',\n",
    " \"    + google_ad_width + 'px;height:'\\n\",\n",
    " '    + google_ad_height + \\'px\" data-ad-client=\"\\'\\n',\n",
    " '    + google_ad_client + \\'\" data-ad-slot=\"\\'\\n',\n",
    " '    + google_ad_slot + \\'\"&gt;&lt;/ins&gt;\\'\\n',\n",
    " '    );\\n',\n",
    " '    (adsbygoogle = window.adsbygoogle || []).push({});\\n',\n",
    " '    \\n',\n",
    " '     \\n',\n",
    " '    \\n',\n",
    " '\\n',\n",
    " '\\n',\n",
    " '\\t\\t\\t\\t\\t\\t  \\n',]"
   ]
  },
  {
   "cell_type": "code",
   "execution_count": 84,
   "metadata": {},
   "outputs": [],
   "source": [
    "c = 0\n",
    "for i in ad:\n",
    "    ad[c] = i.strip().replace('\\n','')\n",
    "    c += 1"
   ]
  },
  {
   "cell_type": "code",
   "execution_count": 131,
   "metadata": {},
   "outputs": [],
   "source": [
    "\n",
    "for i in range(len(li2)):\n",
    "    if li2[i] == '\\'&lt;ins class=\"adsbygoogle\" style=\"display:inline-block;width:\\'': \n",
    "        #if i == '}' or i == '} else {' or i == 'else {' or i == 'document.write ('\n",
    "        remove_.append(i)"
   ]
  },
  {
   "cell_type": "code",
   "execution_count": 132,
   "metadata": {},
   "outputs": [
    {
     "data": {
      "text/plain": [
       "[30277, 8508, 5846, 68220, 78510, 42866, 35644, 2238]"
      ]
     },
     "execution_count": 132,
     "metadata": {},
     "output_type": "execute_result"
    }
   ],
   "source": [
    "remove_"
   ]
  },
  {
   "cell_type": "code",
   "execution_count": 113,
   "metadata": {},
   "outputs": [
    {
     "data": {
      "text/plain": [
       "[30277]"
      ]
     },
     "execution_count": 113,
     "metadata": {},
     "output_type": "execute_result"
    }
   ],
   "source": [
    "remove_"
   ]
  },
  {
   "cell_type": "code",
   "execution_count": 141,
   "metadata": {},
   "outputs": [],
   "source": [
    "li3 = []\n",
    "c = 0\n",
    "for i in range(len(li2)):\n",
    "    if i == remove_[c] or li2[i] == '':\n",
    "        c += 1\n",
    "    else:\n",
    "        li3.append(li2[i])\n",
    "               "
   ]
  },
  {
   "cell_type": "code",
   "execution_count": 142,
   "metadata": {},
   "outputs": [],
   "source": [
    "del(li2)"
   ]
  },
  {
   "cell_type": "code",
   "execution_count": 201,
   "metadata": {},
   "outputs": [],
   "source": [
    "\n",
    "for i in range(len(li3)):\n",
    "    try:\n",
    "        if li3[i][0:7] == '\\'&lt;i':\n",
    "            remove_.append(i)\n",
    "    except(Exception):\n",
    "        print('f')\n",
    "        "
   ]
  },
  {
   "cell_type": "code",
   "execution_count": 206,
   "metadata": {},
   "outputs": [],
   "source": [
    "remove_ = list(set(remove_))"
   ]
  },
  {
   "cell_type": "code",
   "execution_count": 207,
   "metadata": {},
   "outputs": [
    {
     "name": "stdout",
     "output_type": "stream",
     "text": [
      "[67585, 24204, 34447, 65299, 36758, 54424, 16153, 12314, 35492, 25894, 78632, 17963, 78508, 62514, 62131, 31542, 35642, 47166, 25534, 50883, 16964, 54726, 45135, 48981, 53462, 60889, 78943, 68448, 36070, 4071, 42865, 35826]\n"
     ]
    }
   ],
   "source": [
    "print(remove_)"
   ]
  },
  {
   "cell_type": "code",
   "execution_count": 208,
   "metadata": {},
   "outputs": [],
   "source": [
    "li4 = []\n",
    "c = 0\n",
    "for i in range(len(li3)):\n",
    "    if remove_[c] == i :\n",
    "        c += 1\n",
    "    else:\n",
    "        li4.append(li3[i])\n",
    "        "
   ]
  },
  {
   "cell_type": "code",
   "execution_count": 214,
   "metadata": {},
   "outputs": [],
   "source": [
    "with open(r'refined_brand_name.txt','w+') as f:\n",
    "    for elements in li4:\n",
    "        f.write('%s\\n'%elements)"
   ]
  },
  {
   "cell_type": "code",
   "execution_count": 215,
   "metadata": {},
   "outputs": [],
   "source": [
    "del(li3)\n",
    "li5 = li4\n",
    "del(li4)"
   ]
  },
  {
   "cell_type": "code",
   "execution_count": 216,
   "metadata": {},
   "outputs": [],
   "source": [
    "s = '';\n",
    "for i in li5:\n",
    "    s = s +' '+ i "
   ]
  },
  {
   "cell_type": "code",
   "execution_count": 233,
   "metadata": {},
   "outputs": [],
   "source": [
    "li6 = s.split()\n",
    "remove_ = []\n",
    "for i in range(len(li6)):\n",
    "    try:\n",
    "        if li6[i].isnumeric():\n",
    "            remove_.append(i)\n",
    "        if len(li6[i]) <= 2 :\n",
    "            remove_.append(i)\n",
    "        else:    \n",
    "            if li6[i][0] == '(' :\n",
    "                li6[i] = li6[i][1:] \n",
    "            if li6[i][-1] == ')' :\n",
    "                li6[i] = li6[i][0:-1]\n",
    "        \n",
    "    except:\n",
    "        print('')"
   ]
  },
  {
   "cell_type": "code",
   "execution_count": 236,
   "metadata": {},
   "outputs": [],
   "source": [
    "remove_.sort()\n",
    "li7 = []\n",
    "c = 0\n",
    "for i in range(len(li6)):\n",
    "    if remove_[c] == i :\n",
    "        c += 1\n",
    "    else:\n",
    "        li7.append(li6[i])"
   ]
  },
  {
   "cell_type": "code",
   "execution_count": 238,
   "metadata": {},
   "outputs": [],
   "source": [
    "li8 = []\n",
    "for i in range(len(li7)):\n",
    "    if len(li7[i]) < 3:\n",
    "        continue\n",
    "    if li7[i].isnumeric():\n",
    "        continue\n",
    "    else:\n",
    "        li8.append(li7[i])\n",
    "del(li7)"
   ]
  },
  {
   "cell_type": "code",
   "execution_count": 241,
   "metadata": {},
   "outputs": [],
   "source": [
    "li9 = li5 + li8"
   ]
  },
  {
   "cell_type": "code",
   "execution_count": 243,
   "metadata": {},
   "outputs": [],
   "source": [
    "with open('medicin_branname_final.txt','w+') as f:\n",
    "    for i in li9:\n",
    "        f.write('%s\\n'%i)"
   ]
  },
  {
   "cell_type": "code",
   "execution_count": null,
   "metadata": {},
   "outputs": [],
   "source": []
  }
 ],
 "metadata": {
  "kernelspec": {
   "display_name": "Python 3",
   "language": "python",
   "name": "python3"
  },
  "language_info": {
   "codemirror_mode": {
    "name": "ipython",
    "version": 3
   },
   "file_extension": ".py",
   "mimetype": "text/x-python",
   "name": "python",
   "nbconvert_exporter": "python",
   "pygments_lexer": "ipython3",
   "version": "3.6.8"
  }
 },
 "nbformat": 4,
 "nbformat_minor": 2
}
